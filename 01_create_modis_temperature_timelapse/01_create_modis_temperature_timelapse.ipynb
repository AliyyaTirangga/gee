{
 "cells": [
  {
   "cell_type": "code",
   "execution_count": 1,
   "id": "1b6d73bc",
   "metadata": {},
   "outputs": [],
   "source": [
    "# Import libraries\n",
    "import os\n",
    "import ee\n",
    "import geemap\n",
    "from geemap import *"
   ]
  },
  {
   "cell_type": "code",
   "execution_count": 74,
   "id": "9e2b2927",
   "metadata": {},
   "outputs": [
    {
     "data": {
      "application/vnd.jupyter.widget-view+json": {
       "model_id": "f42c97cecc8e4569975bb43d9462d392",
       "version_major": 2,
       "version_minor": 0
      },
      "text/plain": [
       "Map(center=[40, -100], controls=(WidgetControl(options=['position', 'transparent_bg'], widget=HBox(children=(T…"
      ]
     },
     "metadata": {},
     "output_type": "display_data"
    }
   ],
   "source": [
    "# Create an interactive map\n",
    "Map = geemap.Map()\n",
    "Map"
   ]
  },
  {
   "cell_type": "code",
   "execution_count": 32,
   "id": "fe8a476f",
   "metadata": {},
   "outputs": [],
   "source": [
    "roi_JKT = Map.draw_last_feature\n",
    "\n",
    "\n",
    "# MODIS 2000-2004\n",
    "modis_jkt00 = ee.ImageCollection(\"MODIS/006/MOD11A1\").filterDate('2000-01-01', '2004-12-31').select('LST_Day_1km').mean().clip(roi_JKT)\n",
    "modis_jkt00_celcius = modis_jkt00.multiply(0.02).subtract(273.15)\n",
    "\n",
    "# MODIS 2005-2009\n",
    "modis_jkt01 = ee.ImageCollection(\"MODIS/006/MOD11A1\").filterDate('2005-01-01', '2009-12-31').select('LST_Day_1km').mean().clip(roi_JKT)        \n",
    "modis_jkt01_celcius = modis_jkt01.multiply(0.02).subtract(273.15)\n",
    "\n",
    "# MODIS 2010-2014\n",
    "modis_jkt02 = ee.ImageCollection(\"MODIS/006/MOD11A1\").filterDate('2010-01-01', '2014-12-31').select('LST_Day_1km').mean().clip(roi_JKT)          \n",
    "modis_jkt02_celcius = modis_jkt02.multiply(0.02).subtract(273.15)\n",
    "\n",
    "# MODIS 2015-2019\n",
    "modis_jkt03 = ee.ImageCollection(\"MODIS/006/MOD11A1\").filterDate('2015-01-01', '2019-12-31').select('LST_Day_1km').mean().clip(roi_JKT)\n",
    "modis_jkt03_celcius = modis_jkt03.multiply(0.02).subtract(273.15)\n",
    "\n",
    "# Visualization parameter\n",
    "vis_param = {\n",
    "            'min': 20, \n",
    "            'max': 40,\n",
    "            'palette':['blue','green','yellow','orange','red'],\n",
    "            }\n",
    "\n",
    "\n",
    "# Add Layer\n",
    "Map.addLayer(modis_jkt00_celcius, vis_param, 'LST Jakarta 2000-2004')\n",
    "Map.addLayer(modis_jkt01_celcius, vis_param, 'LST Jakarta 2005-2009')\n",
    "Map.addLayer(modis_jkt02_celcius, vis_param, 'LST Jakarta 2010-2014')\n",
    "Map.addLayer(modis_jkt03_celcius, vis_param, 'LST Jakarta 2015-2019')"
   ]
  },
  {
   "cell_type": "code",
   "execution_count": 33,
   "id": "2cf760b3",
   "metadata": {},
   "outputs": [
    {
     "name": "stdout",
     "output_type": "stream",
     "text": [
      "4\n"
     ]
    }
   ],
   "source": [
    "# Create new image collection for timelapse\n",
    "LST_Jakarta = ee.ImageCollection([modis_jkt00_celcius, modis_jkt01_celcius, modis_jkt02_celcius, modis_jkt03_celcius])\n",
    "\n",
    "# How many images\n",
    "print(LST_Jakarta.size().getInfo())"
   ]
  },
  {
   "cell_type": "code",
   "execution_count": 34,
   "id": "4b1e4833",
   "metadata": {},
   "outputs": [],
   "source": [
    "# Define arguments for animation function parameters\n",
    "video_args = {\n",
    "  'dimensions': 768,\n",
    "  'region': roi_JKT,\n",
    "  'framesPerSecond': 1,\n",
    "    'min': 20, \n",
    "    'max': 40,\n",
    "    'palette':['blue','green','yellow','orange','red']\n",
    "}"
   ]
  },
  {
   "cell_type": "code",
   "execution_count": 35,
   "id": "e1c5a903",
   "metadata": {},
   "outputs": [],
   "source": [
    "# Set download path\n",
    "work_dir = os.path.join(os.path.expanduser(\"~\"), 'Downloads')\n",
    "if not os.path.exists(work_dir):\n",
    "    os.makedirs(work_dir)\n",
    "out_gif = os.path.join(work_dir, \"LST Jakarta_2000-2019.gif\")"
   ]
  },
  {
   "cell_type": "code",
   "execution_count": 40,
   "id": "509f46e8",
   "metadata": {},
   "outputs": [
    {
     "name": "stdout",
     "output_type": "stream",
     "text": [
      "Generating URL...\n",
      "Downloading GIF image from https://earthengine.googleapis.com/v1alpha/projects/earthengine-legacy/videoThumbnails/aff44a04ea20b0504bce8fb543fd6ef1-5c2e75bf3edc1dd0df757ad4ecd153d5:getPixels\n",
      "Please wait ...\n",
      "The GIF image has been saved to: C:\\Users\\v\\Downloads\\LST Jakarta_2000-2019.gif\n"
     ]
    }
   ],
   "source": [
    "# Create and download gif\n",
    "geemap.download_ee_video(LST_Jakarta, video_args, out_gif)"
   ]
  },
  {
   "cell_type": "code",
   "execution_count": 50,
   "id": "9962803d",
   "metadata": {},
   "outputs": [],
   "source": [
    "# Create layer names\n",
    "LST_Jakarta_layers = ['2000-2004', '2005-2009', '2010-2014', '2015-2019']\n",
    "\n",
    "texted_gif = os.path.join(work_dir, \"LST Jakarta_2000-2019_text.gif\")\n",
    "geemap.add_text_to_gif(out_gif, texted_gif, xy=('2%', '7%'), text_sequence=LST_Jakarta_layers, font_size=30, font_color='#ffffff', add_progress_bar=False)\n",
    "\n",
    "label = 'LST in Jakarta (Celcius Scale)'\n",
    "geemap.add_text_to_gif(texted_gif, texted_gif, xy=('2%', '2%'), text_sequence=label, font_size=30, font_color='#ffffff', progress_bar_color='black', duration=1000)"
   ]
  },
  {
   "cell_type": "code",
   "execution_count": 51,
   "id": "46e8bf34",
   "metadata": {},
   "outputs": [
    {
     "data": {
      "application/vnd.jupyter.widget-view+json": {
       "model_id": "000ad8fe4768434da0af6937bc421645",
       "version_major": 2,
       "version_minor": 0
      },
      "text/plain": [
       "Output()"
      ]
     },
     "metadata": {},
     "output_type": "display_data"
    }
   ],
   "source": [
    "# Create Colorbar\n",
    "width = 250\n",
    "height = 30\n",
    "palette = ['blue','green','yellow','orange','red']\n",
    "labels = [20, 40]\n",
    "colorbar = create_colorbar(width=width, height=height, palette=palette, vertical=False, add_labels=True, font_size=20, labels=labels)\n",
    "\n",
    "show_image(colorbar)"
   ]
  },
  {
   "cell_type": "code",
   "execution_count": 52,
   "id": "26f74874",
   "metadata": {},
   "outputs": [
    {
     "data": {
      "application/vnd.jupyter.widget-view+json": {
       "model_id": "8491158e61c2474a83e418028832c4b6",
       "version_major": 2,
       "version_minor": 0
      },
      "text/plain": [
       "Output()"
      ]
     },
     "metadata": {},
     "output_type": "display_data"
    }
   ],
   "source": [
    "# Add colorbar to GIF\n",
    "add_image_to_gif(texted_gif, texted_gif, in_image=colorbar, xy = ('60%', '94%'), image_size=(250, 250))\n",
    "\n",
    "# Show image\n",
    "show_image(texted_gif)"
   ]
  },
  {
   "cell_type": "markdown",
   "id": "b79e7a52",
   "metadata": {},
   "source": [
    "## LST Bangkok"
   ]
  },
  {
   "cell_type": "code",
   "execution_count": 53,
   "id": "7abad6c7",
   "metadata": {},
   "outputs": [],
   "source": [
    "# Define roi\n",
    "roi_Bangkok = Map.draw_last_feature \n",
    "\n",
    "# MODIS 2000-2004\n",
    "modis_bgk00 = ee.ImageCollection(\"MODIS/006/MOD11A1\").filterDate('2000-01-01', '2004-12-31').select('LST_Day_1km').mean().clip(roi_Bangkok)\n",
    "            \n",
    "modis_bgk00_celcius = modis_bgk00.multiply(0.02).subtract(273.15)\n",
    "\n",
    "# MODIS 2005-2009\n",
    "modis_bgk01 = ee.ImageCollection(\"MODIS/006/MOD11A1\").filterDate('2005-01-01', '2009-12-31').select('LST_Day_1km').mean().clip(roi_Bangkok)\n",
    "            \n",
    "modis_bgk01_celcius = modis_bgk01.multiply(0.02).subtract(273.15)\n",
    "\n",
    "# MODIS 2010-2014\n",
    "modis_bgk02 = ee.ImageCollection(\"MODIS/006/MOD11A1\").filterDate('2010-01-01', '2014-12-31').select('LST_Day_1km').mean().clip(roi_Bangkok)\n",
    "            \n",
    "modis_bgk02_celcius = modis_bgk02.multiply(0.02).subtract(273.15)\n",
    "\n",
    "# MODIS 2015-2019\n",
    "modis_bgk03 = ee.ImageCollection(\"MODIS/006/MOD11A1\").filterDate('2015-01-01', '2019-12-31').select('LST_Day_1km').mean().clip(roi_Bangkok)\n",
    "            \n",
    "modis_bgk03_celcius = modis_bgk03.multiply(0.02).subtract(273.15)\n",
    "\n",
    "# Visualization parameter\n",
    "vis_param = {\n",
    "            'min': 20, \n",
    "            'max': 40,\n",
    "            'palette':['blue','green','yellow','orange','red']\n",
    "            }\n",
    "\n",
    "# Add Layer\n",
    "Map.addLayer(modis_bgk00_celcius, vis_param, 'LST Bangkok 2000-2004')\n",
    "Map.addLayer(modis_bgk01_celcius, vis_param, 'LST Bangkok 2005-2009')\n",
    "Map.addLayer(modis_bgk02_celcius, vis_param, 'LST Bangkok 2010-2014')\n",
    "Map.addLayer(modis_bgk03_celcius, vis_param, 'LST Bangkok 2015-2019')"
   ]
  },
  {
   "cell_type": "code",
   "execution_count": 54,
   "id": "c0991e2e",
   "metadata": {},
   "outputs": [
    {
     "name": "stdout",
     "output_type": "stream",
     "text": [
      "4\n"
     ]
    }
   ],
   "source": [
    "# Create new image collection for timelapse\n",
    "LST_Bangkok = ee.ImageCollection([modis_bgk00_celcius, modis_bgk01_celcius, modis_bgk02_celcius, modis_bgk03_celcius])\n",
    "\n",
    "# How many images\n",
    "print(LST_Bangkok.size().getInfo())"
   ]
  },
  {
   "cell_type": "code",
   "execution_count": 55,
   "id": "c67e4f31",
   "metadata": {},
   "outputs": [],
   "source": [
    "# Define arguments for animation function parameters\n",
    "video_args = {\n",
    "  'dimensions': 768,\n",
    "  'region': roi_Bangkok,\n",
    "  'framesPerSecond': 1,\n",
    "    'min': 20, \n",
    "    'max': 40,\n",
    "    'palette':['blue','green','yellow','orange','red']\n",
    "}"
   ]
  },
  {
   "cell_type": "code",
   "execution_count": 56,
   "id": "32c0ef36",
   "metadata": {},
   "outputs": [],
   "source": [
    "# Set download path\n",
    "work_dir = os.path.join(os.path.expanduser(\"~\"), 'Downloads')\n",
    "if not os.path.exists(work_dir):\n",
    "    os.makedirs(work_dir)\n",
    "out_gif = os.path.join(work_dir, \"LST Bangkok_2000-2019.gif\")"
   ]
  },
  {
   "cell_type": "code",
   "execution_count": 57,
   "id": "32a4a4d9",
   "metadata": {},
   "outputs": [
    {
     "name": "stdout",
     "output_type": "stream",
     "text": [
      "Generating URL...\n",
      "Downloading GIF image from https://earthengine.googleapis.com/v1alpha/projects/earthengine-legacy/videoThumbnails/cd0112637d93b0578f692e75900967d9-73f611d8a68736ee45c763dd5211ca59:getPixels\n",
      "Please wait ...\n",
      "The GIF image has been saved to: C:\\Users\\v\\Downloads\\LST Bangkok_2000-2019.gif\n"
     ]
    }
   ],
   "source": [
    "# Create and download gif\n",
    "geemap.download_ee_video(LST_Bangkok, video_args, out_gif)"
   ]
  },
  {
   "cell_type": "code",
   "execution_count": 61,
   "id": "b7599ca1",
   "metadata": {},
   "outputs": [],
   "source": [
    "# Create layer names\n",
    "LST_Bangkok_layers = ['2000-2004', '2005-2009', '2010-2014', '2015-2019']\n",
    "\n",
    "texted_gif = os.path.join(work_dir, \"LST Bangkok_2000-2019_text.gif\")\n",
    "geemap.add_text_to_gif(out_gif, texted_gif, xy=('2%', '7%'), text_sequence=LST_Bangkok_layers, font_size=30, font_color='black', add_progress_bar=False)\n",
    "\n",
    "label = 'LST in Bangkok (Celcius Scale)'\n",
    "geemap.add_text_to_gif(texted_gif, texted_gif, xy=('2%', '2%'), text_sequence=label, font_size=30, font_color='black', progress_bar_color='white', duration=1000)"
   ]
  },
  {
   "cell_type": "code",
   "execution_count": 62,
   "id": "af363710",
   "metadata": {},
   "outputs": [
    {
     "data": {
      "application/vnd.jupyter.widget-view+json": {
       "model_id": "92876c53b1ee4c5e9c13a6bbe7109a49",
       "version_major": 2,
       "version_minor": 0
      },
      "text/plain": [
       "Output()"
      ]
     },
     "metadata": {},
     "output_type": "display_data"
    }
   ],
   "source": [
    "# Create Colorbar\n",
    "width = 250\n",
    "height = 30\n",
    "palette = ['blue','green','yellow','orange','red']\n",
    "labels = [20, 40]\n",
    "colorbar = create_colorbar(width=width, height=height, palette=palette, vertical=False, add_labels=True, font_size=20, font_color='white', labels=labels)\n",
    "\n",
    "show_image(colorbar)"
   ]
  },
  {
   "cell_type": "code",
   "execution_count": 63,
   "id": "f8d3bcd5",
   "metadata": {},
   "outputs": [
    {
     "data": {
      "application/vnd.jupyter.widget-view+json": {
       "model_id": "9027584bd2ea4a61b502c9fdadd9d732",
       "version_major": 2,
       "version_minor": 0
      },
      "text/plain": [
       "Output()"
      ]
     },
     "metadata": {},
     "output_type": "display_data"
    }
   ],
   "source": [
    "# Add colorbar to GIF\n",
    "add_image_to_gif(texted_gif, texted_gif, in_image=colorbar, xy = ('60%', '92%'), image_size=(250, 250))\n",
    "\n",
    "# Show image\n",
    "show_image(texted_gif)"
   ]
  },
  {
   "cell_type": "markdown",
   "id": "46d37275",
   "metadata": {},
   "source": [
    "## Tokyo\n",
    "\n",
    "\n",
    "\n"
   ]
  },
  {
   "cell_type": "code",
   "execution_count": 65,
   "id": "0154dccd",
   "metadata": {},
   "outputs": [],
   "source": [
    "# Define roi\n",
    "roi_Tokyo = Map.draw_last_feature \n",
    "\n",
    "# MODIS 2000-2004\n",
    "modis_tky00 = ee.ImageCollection(\"MODIS/006/MOD11A1\").filterDate('2000-01-01', '2004-12-31').select('LST_Day_1km').mean().clip(roi_Tokyo)\n",
    "            \n",
    "modis_tky00_celcius = modis_tky00.multiply(0.02).subtract(273.15)\n",
    "\n",
    "# MODIS 2005-2009\n",
    "modis_tky01 = ee.ImageCollection(\"MODIS/006/MOD11A1\").filterDate('2005-01-01', '2009-12-31').select('LST_Day_1km').mean().clip(roi_Tokyo)\n",
    "            \n",
    "modis_tky01_celcius = modis_tky01.multiply(0.02).subtract(273.15)\n",
    "\n",
    "# MODIS 2010-2014\n",
    "modis_tky02 = ee.ImageCollection(\"MODIS/006/MOD11A1\").filterDate('2010-01-01', '2014-12-31').select('LST_Day_1km').mean().clip(roi_Tokyo)\n",
    "            \n",
    "modis_tky02_celcius = modis_tky02.multiply(0.02).subtract(273.15)\n",
    "\n",
    "# MODIS 2015-2019\n",
    "modis_tky03 = ee.ImageCollection(\"MODIS/006/MOD11A1\").filterDate('2015-01-01', '2019-12-31').select('LST_Day_1km').mean().clip(roi_Tokyo)\n",
    "            \n",
    "modis_tky03_celcius = modis_tky03.multiply(0.02).subtract(273.15)\n",
    "\n",
    "# Visualization parameter\n",
    "vis_param = {\n",
    "            'min': 5, \n",
    "            'max': 27,\n",
    "            'palette':['blue','green','yellow','orange','red']\n",
    "            }\n",
    "\n",
    "# Add Layer\n",
    "Map.addLayer(modis_tky00_celcius, vis_param, 'LST Tokyo 2000-2004')\n",
    "Map.addLayer(modis_tky01_celcius, vis_param, 'LST Tokyo 2005-2009')\n",
    "Map.addLayer(modis_tky02_celcius, vis_param, 'LST Tokyo 2010-2014')\n",
    "Map.addLayer(modis_tky03_celcius, vis_param, 'LST Tokyo 2015-2019')"
   ]
  },
  {
   "cell_type": "code",
   "execution_count": 66,
   "id": "ae6511d4",
   "metadata": {},
   "outputs": [
    {
     "name": "stdout",
     "output_type": "stream",
     "text": [
      "4\n"
     ]
    }
   ],
   "source": [
    "# Create new image collection for timelapse\n",
    "LST_Tokyo = ee.ImageCollection([modis_tky01_celcius, modis_tky00_celcius, modis_tky02_celcius, modis_tky03_celcius])\n",
    "\n",
    "# How many images\n",
    "print(LST_Tokyo.size().getInfo())"
   ]
  },
  {
   "cell_type": "code",
   "execution_count": 67,
   "id": "86dcde27",
   "metadata": {},
   "outputs": [],
   "source": [
    "# Define arguments for animation function parameters\n",
    "video_args = {\n",
    "  'dimensions': 768,\n",
    "  'region': roi_Tokyo,\n",
    "  'framesPerSecond': 1,\n",
    "    'min': 5, \n",
    "    'max': 27,\n",
    "    'palette':['blue','green','yellow','orange','red']\n",
    "}"
   ]
  },
  {
   "cell_type": "code",
   "execution_count": 68,
   "id": "a3c2bc03",
   "metadata": {},
   "outputs": [],
   "source": [
    "# Set download path\n",
    "work_dir = os.path.join(os.path.expanduser(\"~\"), 'Downloads')\n",
    "if not os.path.exists(work_dir):\n",
    "    os.makedirs(work_dir)\n",
    "out_gif = os.path.join(work_dir, \"LST Tokyo_2000-2019.gif\")"
   ]
  },
  {
   "cell_type": "code",
   "execution_count": 69,
   "id": "8a428655",
   "metadata": {},
   "outputs": [
    {
     "name": "stdout",
     "output_type": "stream",
     "text": [
      "Generating URL...\n",
      "Downloading GIF image from https://earthengine.googleapis.com/v1alpha/projects/earthengine-legacy/videoThumbnails/84194c4ceb7b7b43017a55911ef4e511-4ef1168b3c940e3ff1a5f6fd709bc408:getPixels\n",
      "Please wait ...\n",
      "The GIF image has been saved to: C:\\Users\\v\\Downloads\\LST Tokyo_2000-2019.gif\n"
     ]
    }
   ],
   "source": [
    "# Create and download gif\n",
    "geemap.download_ee_video(LST_Tokyo, video_args, out_gif)"
   ]
  },
  {
   "cell_type": "code",
   "execution_count": 70,
   "id": "012c1776",
   "metadata": {},
   "outputs": [],
   "source": [
    "# Create layer names\n",
    "LST_Tokyo_layers = ['2000-2004', '2005-2009', '2010-2014', '2015-2019']\n",
    "\n",
    "texted_gif = os.path.join(work_dir, \"LST Tokyo_2000-2019_text.gif\")\n",
    "geemap.add_text_to_gif(out_gif, texted_gif, xy=('2%', '7%'), text_sequence=LST_Tokyo_layers, font_size=30, font_color='black', add_progress_bar=False)\n",
    "\n",
    "label = 'LST in Tokyo (Celcius Scale)'\n",
    "geemap.add_text_to_gif(texted_gif, texted_gif, xy=('2%', '2%'), text_sequence=label, font_size=30, font_color='black', progress_bar_color='white', duration=1000)"
   ]
  },
  {
   "cell_type": "code",
   "execution_count": 71,
   "id": "40d39832",
   "metadata": {},
   "outputs": [
    {
     "data": {
      "application/vnd.jupyter.widget-view+json": {
       "model_id": "f09cc20422ab48f88f58f9bd0a1c1da3",
       "version_major": 2,
       "version_minor": 0
      },
      "text/plain": [
       "Output()"
      ]
     },
     "metadata": {},
     "output_type": "display_data"
    }
   ],
   "source": [
    "# Create Colorbar\n",
    "width = 250\n",
    "height = 30\n",
    "palette = ['blue','green','yellow','orange','red']\n",
    "labels = [5, 27]\n",
    "colorbar = create_colorbar(width=width, height=height, palette=palette, vertical=False, add_labels=True, font_size=20, font_color='white', labels=labels)\n",
    "\n",
    "show_image(colorbar)"
   ]
  },
  {
   "cell_type": "code",
   "execution_count": 72,
   "id": "0e91f37b",
   "metadata": {},
   "outputs": [
    {
     "data": {
      "application/vnd.jupyter.widget-view+json": {
       "model_id": "81f0567ffdab4ca89dd277ba340e681d",
       "version_major": 2,
       "version_minor": 0
      },
      "text/plain": [
       "Output()"
      ]
     },
     "metadata": {},
     "output_type": "display_data"
    }
   ],
   "source": [
    "# Add colorbar to GIF\n",
    "add_image_to_gif(texted_gif, texted_gif, in_image=colorbar, xy = ('60%', '92%'), image_size=(250, 250))\n",
    "\n",
    "# Show image\n",
    "show_image(texted_gif)"
   ]
  }
 ],
 "metadata": {
  "kernelspec": {
   "display_name": "Python 3",
   "language": "python",
   "name": "python3"
  },
  "language_info": {
   "codemirror_mode": {
    "name": "ipython",
    "version": 3
   },
   "file_extension": ".py",
   "mimetype": "text/x-python",
   "name": "python",
   "nbconvert_exporter": "python",
   "pygments_lexer": "ipython3",
   "version": "3.9.5"
  }
 },
 "nbformat": 4,
 "nbformat_minor": 5
}
